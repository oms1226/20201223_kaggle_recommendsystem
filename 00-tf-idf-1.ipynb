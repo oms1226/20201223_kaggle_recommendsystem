{
 "cells": [
  {
   "cell_type": "markdown",
   "metadata": {
    "papermill": {
     "duration": 0.013135,
     "end_time": "2020-12-21T08:59:56.413050",
     "exception": false,
     "start_time": "2020-12-21T08:59:56.399915",
     "status": "completed"
    },
    "tags": []
   },
   "source": [
    "## TF-IDF 알고리즘"
   ]
  },
  {
   "cell_type": "code",
   "execution_count": 1,
   "metadata": {
    "execution": {
     "iopub.execute_input": "2020-12-21T08:59:56.440655Z",
     "iopub.status.busy": "2020-12-21T08:59:56.439661Z",
     "iopub.status.idle": "2020-12-21T08:59:56.444086Z",
     "shell.execute_reply": "2020-12-21T08:59:56.443404Z"
    },
    "papermill": {
     "duration": 0.02083,
     "end_time": "2020-12-21T08:59:56.444203",
     "exception": false,
     "start_time": "2020-12-21T08:59:56.423373",
     "status": "completed"
    },
    "tags": []
   },
   "outputs": [],
   "source": [
    "docs = [\n",
    "  '먹고 싶은 사과', # 문서0 \n",
    "  '먹고 싶은 바나나', # 문서1\n",
    "  '길고 노란 바나나 바나나', # 문서2 \n",
    "  '저는 과일이 좋아요' # 문서3 \n",
    "]"
   ]
  },
  {
   "cell_type": "code",
   "execution_count": 2,
   "metadata": {
    "execution": {
     "iopub.execute_input": "2020-12-21T08:59:56.475300Z",
     "iopub.status.busy": "2020-12-21T08:59:56.474602Z",
     "iopub.status.idle": "2020-12-21T08:59:57.725931Z",
     "shell.execute_reply": "2020-12-21T08:59:57.725304Z"
    },
    "papermill": {
     "duration": 1.270463,
     "end_time": "2020-12-21T08:59:57.726048",
     "exception": false,
     "start_time": "2020-12-21T08:59:56.455585",
     "status": "completed"
    },
    "tags": []
   },
   "outputs": [],
   "source": [
    "from sklearn.feature_extraction.text import CountVectorizer\n",
    "vect = CountVectorizer() # Counter Vectorizer 객체 생성 "
   ]
  },
  {
   "cell_type": "code",
   "execution_count": 3,
   "metadata": {
    "execution": {
     "iopub.execute_input": "2020-12-21T08:59:57.763596Z",
     "iopub.status.busy": "2020-12-21T08:59:57.762264Z",
     "iopub.status.idle": "2020-12-21T08:59:57.767359Z",
     "shell.execute_reply": "2020-12-21T08:59:57.767899Z"
    },
    "papermill": {
     "duration": 0.030366,
     "end_time": "2020-12-21T08:59:57.768043",
     "exception": false,
     "start_time": "2020-12-21T08:59:57.737677",
     "status": "completed"
    },
    "tags": []
   },
   "outputs": [
    {
     "data": {
      "text/plain": [
       "<4x9 sparse matrix of type '<class 'numpy.int64'>'\n",
       "\twith 12 stored elements in Compressed Sparse Row format>"
      ]
     },
     "execution_count": 3,
     "metadata": {},
     "output_type": "execute_result"
    }
   ],
   "source": [
    "# 문장을 Counter Vectorizer 형태로 변형 \n",
    "countvect = vect.fit_transform(docs) \n",
    "countvect # 4x9 : 4개의 문서에 9개의 단어 "
   ]
  },
  {
   "cell_type": "code",
   "execution_count": 4,
   "metadata": {
    "execution": {
     "iopub.execute_input": "2020-12-21T08:59:57.798475Z",
     "iopub.status.busy": "2020-12-21T08:59:57.796924Z",
     "iopub.status.idle": "2020-12-21T08:59:57.802168Z",
     "shell.execute_reply": "2020-12-21T08:59:57.801612Z"
    },
    "papermill": {
     "duration": 0.02297,
     "end_time": "2020-12-21T08:59:57.802293",
     "exception": false,
     "start_time": "2020-12-21T08:59:57.779323",
     "status": "completed"
    },
    "tags": []
   },
   "outputs": [
    {
     "data": {
      "text/plain": [
       "array([[0, 0, 0, 1, 0, 1, 1, 0, 0],\n",
       "       [0, 0, 0, 1, 1, 0, 1, 0, 0],\n",
       "       [0, 1, 1, 0, 2, 0, 0, 0, 0],\n",
       "       [1, 0, 0, 0, 0, 0, 0, 1, 1]])"
      ]
     },
     "execution_count": 4,
     "metadata": {},
     "output_type": "execute_result"
    }
   ],
   "source": [
    "# toarray()를 통해서 문장이 Vector 형태의 값을 얻을 수 있음 \n",
    "# 하지만, 각 인덱스와 컬럼이 무엇을 의미하는지에 대해서는 알 수가 없음 \n",
    "countvect.toarray()"
   ]
  },
  {
   "cell_type": "code",
   "execution_count": 5,
   "metadata": {
    "execution": {
     "iopub.execute_input": "2020-12-21T08:59:57.832780Z",
     "iopub.status.busy": "2020-12-21T08:59:57.831845Z",
     "iopub.status.idle": "2020-12-21T08:59:57.837335Z",
     "shell.execute_reply": "2020-12-21T08:59:57.836682Z"
    },
    "papermill": {
     "duration": 0.02332,
     "end_time": "2020-12-21T08:59:57.837455",
     "exception": false,
     "start_time": "2020-12-21T08:59:57.814135",
     "status": "completed"
    },
    "tags": []
   },
   "outputs": [
    {
     "data": {
      "text/plain": [
       "{'먹고': 3,\n",
       " '싶은': 6,\n",
       " '사과': 5,\n",
       " '바나나': 4,\n",
       " '길고': 1,\n",
       " '노란': 2,\n",
       " '저는': 7,\n",
       " '과일이': 0,\n",
       " '좋아요': 8}"
      ]
     },
     "execution_count": 5,
     "metadata": {},
     "output_type": "execute_result"
    }
   ],
   "source": [
    "vect.vocabulary_"
   ]
  },
  {
   "cell_type": "code",
   "execution_count": 6,
   "metadata": {
    "execution": {
     "iopub.execute_input": "2020-12-21T08:59:57.872518Z",
     "iopub.status.busy": "2020-12-21T08:59:57.871523Z",
     "iopub.status.idle": "2020-12-21T08:59:57.876580Z",
     "shell.execute_reply": "2020-12-21T08:59:57.875940Z"
    },
    "papermill": {
     "duration": 0.02602,
     "end_time": "2020-12-21T08:59:57.876691",
     "exception": false,
     "start_time": "2020-12-21T08:59:57.850671",
     "status": "completed"
    },
    "tags": []
   },
   "outputs": [
    {
     "data": {
      "text/plain": [
       "['과일이', '길고', '노란', '먹고', '바나나', '사과', '싶은', '저는', '좋아요']"
      ]
     },
     "execution_count": 6,
     "metadata": {},
     "output_type": "execute_result"
    }
   ],
   "source": [
    "sorted(vect.vocabulary_)"
   ]
  },
  {
   "cell_type": "code",
   "execution_count": 7,
   "metadata": {
    "execution": {
     "iopub.execute_input": "2020-12-21T08:59:57.922860Z",
     "iopub.status.busy": "2020-12-21T08:59:57.921756Z",
     "iopub.status.idle": "2020-12-21T08:59:57.932330Z",
     "shell.execute_reply": "2020-12-21T08:59:57.931624Z"
    },
    "papermill": {
     "duration": 0.042457,
     "end_time": "2020-12-21T08:59:57.932459",
     "exception": false,
     "start_time": "2020-12-21T08:59:57.890002",
     "status": "completed"
    },
    "tags": []
   },
   "outputs": [
    {
     "data": {
      "text/html": [
       "<div>\n",
       "<style scoped>\n",
       "    .dataframe tbody tr th:only-of-type {\n",
       "        vertical-align: middle;\n",
       "    }\n",
       "\n",
       "    .dataframe tbody tr th {\n",
       "        vertical-align: top;\n",
       "    }\n",
       "\n",
       "    .dataframe thead th {\n",
       "        text-align: right;\n",
       "    }\n",
       "</style>\n",
       "<table border=\"1\" class=\"dataframe\">\n",
       "  <thead>\n",
       "    <tr style=\"text-align: right;\">\n",
       "      <th></th>\n",
       "      <th>과일이</th>\n",
       "      <th>길고</th>\n",
       "      <th>노란</th>\n",
       "      <th>먹고</th>\n",
       "      <th>바나나</th>\n",
       "      <th>사과</th>\n",
       "      <th>싶은</th>\n",
       "      <th>저는</th>\n",
       "      <th>좋아요</th>\n",
       "    </tr>\n",
       "  </thead>\n",
       "  <tbody>\n",
       "    <tr>\n",
       "      <th>문서1</th>\n",
       "      <td>0</td>\n",
       "      <td>0</td>\n",
       "      <td>0</td>\n",
       "      <td>1</td>\n",
       "      <td>0</td>\n",
       "      <td>1</td>\n",
       "      <td>1</td>\n",
       "      <td>0</td>\n",
       "      <td>0</td>\n",
       "    </tr>\n",
       "    <tr>\n",
       "      <th>문서2</th>\n",
       "      <td>0</td>\n",
       "      <td>0</td>\n",
       "      <td>0</td>\n",
       "      <td>1</td>\n",
       "      <td>1</td>\n",
       "      <td>0</td>\n",
       "      <td>1</td>\n",
       "      <td>0</td>\n",
       "      <td>0</td>\n",
       "    </tr>\n",
       "    <tr>\n",
       "      <th>문서3</th>\n",
       "      <td>0</td>\n",
       "      <td>1</td>\n",
       "      <td>1</td>\n",
       "      <td>0</td>\n",
       "      <td>2</td>\n",
       "      <td>0</td>\n",
       "      <td>0</td>\n",
       "      <td>0</td>\n",
       "      <td>0</td>\n",
       "    </tr>\n",
       "    <tr>\n",
       "      <th>문서4</th>\n",
       "      <td>1</td>\n",
       "      <td>0</td>\n",
       "      <td>0</td>\n",
       "      <td>0</td>\n",
       "      <td>0</td>\n",
       "      <td>0</td>\n",
       "      <td>0</td>\n",
       "      <td>1</td>\n",
       "      <td>1</td>\n",
       "    </tr>\n",
       "  </tbody>\n",
       "</table>\n",
       "</div>"
      ],
      "text/plain": [
       "     과일이  길고  노란  먹고  바나나  사과  싶은  저는  좋아요\n",
       "문서1    0   0   0   1    0   1   1   0    0\n",
       "문서2    0   0   0   1    1   0   1   0    0\n",
       "문서3    0   1   1   0    2   0   0   0    0\n",
       "문서4    1   0   0   0    0   0   0   1    1"
      ]
     },
     "execution_count": 7,
     "metadata": {},
     "output_type": "execute_result"
    }
   ],
   "source": [
    "import pandas as pd\n",
    "countvect_df = pd.DataFrame(countvect.toarray(), columns = sorted(vect.vocabulary_))\n",
    "countvect_df.index = ['문서1', '문서2', '문서3', '문서4']\n",
    "countvect_df"
   ]
  },
  {
   "cell_type": "code",
   "execution_count": 8,
   "metadata": {
    "execution": {
     "iopub.execute_input": "2020-12-21T08:59:57.965677Z",
     "iopub.status.busy": "2020-12-21T08:59:57.964934Z",
     "iopub.status.idle": "2020-12-21T08:59:58.080730Z",
     "shell.execute_reply": "2020-12-21T08:59:58.081366Z"
    },
    "papermill": {
     "duration": 0.134631,
     "end_time": "2020-12-21T08:59:58.081550",
     "exception": false,
     "start_time": "2020-12-21T08:59:57.946919",
     "status": "completed"
    },
    "tags": []
   },
   "outputs": [
    {
     "data": {
      "text/plain": [
       "array([[1.        , 0.66666667, 0.        , 0.        ],\n",
       "       [0.66666667, 1.        , 0.47140452, 0.        ],\n",
       "       [0.        , 0.47140452, 1.        , 0.        ],\n",
       "       [0.        , 0.        , 0.        , 1.        ]])"
      ]
     },
     "execution_count": 8,
     "metadata": {},
     "output_type": "execute_result"
    }
   ],
   "source": [
    "# 위의 Data Frame 형태의 유사도를 계산 \n",
    "from sklearn.metrics.pairwise import cosine_similarity\n",
    "cosine_similarity(countvect_df, countvect_df)"
   ]
  },
  {
   "cell_type": "markdown",
   "metadata": {
    "papermill": {
     "duration": 0.014385,
     "end_time": "2020-12-21T08:59:58.111016",
     "exception": false,
     "start_time": "2020-12-21T08:59:58.096631",
     "status": "completed"
    },
    "tags": []
   },
   "source": [
    "0번문서는 1번과 유사하다는 결론을 얻을 수 있음. 동일한 방식으로 TF-IDF를 수행하면 아래와 같음 "
   ]
  },
  {
   "cell_type": "code",
   "execution_count": 9,
   "metadata": {
    "execution": {
     "iopub.execute_input": "2020-12-21T08:59:58.143360Z",
     "iopub.status.busy": "2020-12-21T08:59:58.142679Z",
     "iopub.status.idle": "2020-12-21T08:59:58.150012Z",
     "shell.execute_reply": "2020-12-21T08:59:58.150553Z"
    },
    "papermill": {
     "duration": 0.024907,
     "end_time": "2020-12-21T08:59:58.150695",
     "exception": false,
     "start_time": "2020-12-21T08:59:58.125788",
     "status": "completed"
    },
    "tags": []
   },
   "outputs": [],
   "source": [
    "from sklearn.feature_extraction.text import TfidfVectorizer\n",
    "vect = TfidfVectorizer()\n",
    "tfvect = vect.fit(docs)"
   ]
  },
  {
   "cell_type": "code",
   "execution_count": 10,
   "metadata": {
    "execution": {
     "iopub.execute_input": "2020-12-21T08:59:58.185699Z",
     "iopub.status.busy": "2020-12-21T08:59:58.184988Z",
     "iopub.status.idle": "2020-12-21T08:59:58.208710Z",
     "shell.execute_reply": "2020-12-21T08:59:58.209229Z"
    },
    "papermill": {
     "duration": 0.043162,
     "end_time": "2020-12-21T08:59:58.209492",
     "exception": false,
     "start_time": "2020-12-21T08:59:58.166330",
     "status": "completed"
    },
    "tags": []
   },
   "outputs": [
    {
     "data": {
      "text/html": [
       "<div>\n",
       "<style scoped>\n",
       "    .dataframe tbody tr th:only-of-type {\n",
       "        vertical-align: middle;\n",
       "    }\n",
       "\n",
       "    .dataframe tbody tr th {\n",
       "        vertical-align: top;\n",
       "    }\n",
       "\n",
       "    .dataframe thead th {\n",
       "        text-align: right;\n",
       "    }\n",
       "</style>\n",
       "<table border=\"1\" class=\"dataframe\">\n",
       "  <thead>\n",
       "    <tr style=\"text-align: right;\">\n",
       "      <th></th>\n",
       "      <th>과일이</th>\n",
       "      <th>길고</th>\n",
       "      <th>노란</th>\n",
       "      <th>먹고</th>\n",
       "      <th>바나나</th>\n",
       "      <th>사과</th>\n",
       "      <th>싶은</th>\n",
       "      <th>저는</th>\n",
       "      <th>좋아요</th>\n",
       "    </tr>\n",
       "  </thead>\n",
       "  <tbody>\n",
       "    <tr>\n",
       "      <th>문서1</th>\n",
       "      <td>0.00000</td>\n",
       "      <td>0.00000</td>\n",
       "      <td>0.00000</td>\n",
       "      <td>0.526405</td>\n",
       "      <td>0.00000</td>\n",
       "      <td>0.667679</td>\n",
       "      <td>0.526405</td>\n",
       "      <td>0.00000</td>\n",
       "      <td>0.00000</td>\n",
       "    </tr>\n",
       "    <tr>\n",
       "      <th>문서2</th>\n",
       "      <td>0.00000</td>\n",
       "      <td>0.00000</td>\n",
       "      <td>0.00000</td>\n",
       "      <td>0.577350</td>\n",
       "      <td>0.57735</td>\n",
       "      <td>0.000000</td>\n",
       "      <td>0.577350</td>\n",
       "      <td>0.00000</td>\n",
       "      <td>0.00000</td>\n",
       "    </tr>\n",
       "    <tr>\n",
       "      <th>문서3</th>\n",
       "      <td>0.00000</td>\n",
       "      <td>0.47212</td>\n",
       "      <td>0.47212</td>\n",
       "      <td>0.000000</td>\n",
       "      <td>0.74445</td>\n",
       "      <td>0.000000</td>\n",
       "      <td>0.000000</td>\n",
       "      <td>0.00000</td>\n",
       "      <td>0.00000</td>\n",
       "    </tr>\n",
       "    <tr>\n",
       "      <th>문서4</th>\n",
       "      <td>0.57735</td>\n",
       "      <td>0.00000</td>\n",
       "      <td>0.00000</td>\n",
       "      <td>0.000000</td>\n",
       "      <td>0.00000</td>\n",
       "      <td>0.000000</td>\n",
       "      <td>0.000000</td>\n",
       "      <td>0.57735</td>\n",
       "      <td>0.57735</td>\n",
       "    </tr>\n",
       "  </tbody>\n",
       "</table>\n",
       "</div>"
      ],
      "text/plain": [
       "         과일이       길고       노란        먹고      바나나        사과        싶은  \\\n",
       "문서1  0.00000  0.00000  0.00000  0.526405  0.00000  0.667679  0.526405   \n",
       "문서2  0.00000  0.00000  0.00000  0.577350  0.57735  0.000000  0.577350   \n",
       "문서3  0.00000  0.47212  0.47212  0.000000  0.74445  0.000000  0.000000   \n",
       "문서4  0.57735  0.00000  0.00000  0.000000  0.00000  0.000000  0.000000   \n",
       "\n",
       "          저는      좋아요  \n",
       "문서1  0.00000  0.00000  \n",
       "문서2  0.00000  0.00000  \n",
       "문서3  0.00000  0.00000  \n",
       "문서4  0.57735  0.57735  "
      ]
     },
     "execution_count": 10,
     "metadata": {},
     "output_type": "execute_result"
    }
   ],
   "source": [
    "tfidv_df = pd.DataFrame(tfvect.transform(docs).toarray(), columns = sorted(vect.vocabulary_))\n",
    "tfidv_df.index = ['문서1', '문서2', '문서3', '문서4']\n",
    "tfidv_df"
   ]
  },
  {
   "cell_type": "code",
   "execution_count": 11,
   "metadata": {
    "execution": {
     "iopub.execute_input": "2020-12-21T08:59:58.242271Z",
     "iopub.status.busy": "2020-12-21T08:59:58.241477Z",
     "iopub.status.idle": "2020-12-21T08:59:58.250409Z",
     "shell.execute_reply": "2020-12-21T08:59:58.249577Z"
    },
    "papermill": {
     "duration": 0.026468,
     "end_time": "2020-12-21T08:59:58.250535",
     "exception": false,
     "start_time": "2020-12-21T08:59:58.224067",
     "status": "completed"
    },
    "tags": []
   },
   "outputs": [
    {
     "data": {
      "text/plain": [
       "array([[1.        , 0.60784064, 0.        , 0.        ],\n",
       "       [0.60784064, 1.        , 0.42980824, 0.        ],\n",
       "       [0.        , 0.42980824, 1.        , 0.        ],\n",
       "       [0.        , 0.        , 0.        , 1.        ]])"
      ]
     },
     "execution_count": 11,
     "metadata": {},
     "output_type": "execute_result"
    }
   ],
   "source": [
    "from sklearn.metrics.pairwise import cosine_similarity\n",
    "cosine_similarity(tfidv_df, tfidv_df)"
   ]
  },
  {
   "cell_type": "code",
   "execution_count": 12,
   "metadata": {
    "execution": {
     "iopub.execute_input": "2020-12-21T08:59:58.286618Z",
     "iopub.status.busy": "2020-12-21T08:59:58.285805Z",
     "iopub.status.idle": "2020-12-21T08:59:58.292511Z",
     "shell.execute_reply": "2020-12-21T08:59:58.293028Z"
    },
    "papermill": {
     "duration": 0.026711,
     "end_time": "2020-12-21T08:59:58.293193",
     "exception": false,
     "start_time": "2020-12-21T08:59:58.266482",
     "status": "completed"
    },
    "tags": []
   },
   "outputs": [],
   "source": [
    "from sklearn.feature_extraction.text import TfidfVectorizer\n",
    "vect = TfidfVectorizer(max_features=4)\n",
    "tfvect = vect.fit(docs)"
   ]
  },
  {
   "cell_type": "code",
   "execution_count": 13,
   "metadata": {
    "execution": {
     "iopub.execute_input": "2020-12-21T08:59:58.327609Z",
     "iopub.status.busy": "2020-12-21T08:59:58.326936Z",
     "iopub.status.idle": "2020-12-21T08:59:58.342763Z",
     "shell.execute_reply": "2020-12-21T08:59:58.343316Z"
    },
    "papermill": {
     "duration": 0.03448,
     "end_time": "2020-12-21T08:59:58.343482",
     "exception": false,
     "start_time": "2020-12-21T08:59:58.309002",
     "status": "completed"
    },
    "tags": []
   },
   "outputs": [
    {
     "data": {
      "text/html": [
       "<div>\n",
       "<style scoped>\n",
       "    .dataframe tbody tr th:only-of-type {\n",
       "        vertical-align: middle;\n",
       "    }\n",
       "\n",
       "    .dataframe tbody tr th {\n",
       "        vertical-align: top;\n",
       "    }\n",
       "\n",
       "    .dataframe thead th {\n",
       "        text-align: right;\n",
       "    }\n",
       "</style>\n",
       "<table border=\"1\" class=\"dataframe\">\n",
       "  <thead>\n",
       "    <tr style=\"text-align: right;\">\n",
       "      <th></th>\n",
       "      <th>과일이</th>\n",
       "      <th>먹고</th>\n",
       "      <th>바나나</th>\n",
       "      <th>싶은</th>\n",
       "    </tr>\n",
       "  </thead>\n",
       "  <tbody>\n",
       "    <tr>\n",
       "      <th>문서1</th>\n",
       "      <td>0.0</td>\n",
       "      <td>0.707107</td>\n",
       "      <td>0.00000</td>\n",
       "      <td>0.707107</td>\n",
       "    </tr>\n",
       "    <tr>\n",
       "      <th>문서2</th>\n",
       "      <td>0.0</td>\n",
       "      <td>0.577350</td>\n",
       "      <td>0.57735</td>\n",
       "      <td>0.577350</td>\n",
       "    </tr>\n",
       "    <tr>\n",
       "      <th>문서3</th>\n",
       "      <td>0.0</td>\n",
       "      <td>0.000000</td>\n",
       "      <td>1.00000</td>\n",
       "      <td>0.000000</td>\n",
       "    </tr>\n",
       "    <tr>\n",
       "      <th>문서4</th>\n",
       "      <td>1.0</td>\n",
       "      <td>0.000000</td>\n",
       "      <td>0.00000</td>\n",
       "      <td>0.000000</td>\n",
       "    </tr>\n",
       "  </tbody>\n",
       "</table>\n",
       "</div>"
      ],
      "text/plain": [
       "     과일이        먹고      바나나        싶은\n",
       "문서1  0.0  0.707107  0.00000  0.707107\n",
       "문서2  0.0  0.577350  0.57735  0.577350\n",
       "문서3  0.0  0.000000  1.00000  0.000000\n",
       "문서4  1.0  0.000000  0.00000  0.000000"
      ]
     },
     "execution_count": 13,
     "metadata": {},
     "output_type": "execute_result"
    }
   ],
   "source": [
    "tfidv_df = pd.DataFrame(tfvect.transform(docs).toarray(), columns = sorted(vect.vocabulary_))\n",
    "tfidv_df.index = ['문서1', '문서2', '문서3', '문서4']\n",
    "tfidv_df"
   ]
  }
 ],
 "metadata": {
  "kernelspec": {
   "display_name": "Python 3",
   "language": "python",
   "name": "python3"
  },
  "language_info": {
   "codemirror_mode": {
    "name": "ipython",
    "version": 3
   },
   "file_extension": ".py",
   "mimetype": "text/x-python",
   "name": "python",
   "nbconvert_exporter": "python",
   "pygments_lexer": "ipython3",
   "version": "3.7.6"
  },
  "papermill": {
   "duration": 7.601251,
   "end_time": "2020-12-21T08:59:58.467421",
   "environment_variables": {},
   "exception": null,
   "input_path": "__notebook__.ipynb",
   "output_path": "__notebook__.ipynb",
   "parameters": {},
   "start_time": "2020-12-21T08:59:50.866170",
   "version": "2.1.0"
  }
 },
 "nbformat": 4,
 "nbformat_minor": 4
}
