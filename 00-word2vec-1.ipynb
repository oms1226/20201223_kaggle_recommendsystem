{
 "cells": [
  {
   "cell_type": "markdown",
   "metadata": {
    "papermill": {
     "duration": 0.020742,
     "end_time": "2020-12-21T09:26:47.823705",
     "exception": false,
     "start_time": "2020-12-21T09:26:47.802963",
     "status": "completed"
    },
    "tags": []
   },
   "source": [
    "## Word2Vec 알고리즘\n"
   ]
  },
  {
   "cell_type": "code",
   "execution_count": 1,
   "metadata": {
    "execution": {
     "iopub.execute_input": "2020-12-21T09:26:47.868525Z",
     "iopub.status.busy": "2020-12-21T09:26:47.867763Z",
     "iopub.status.idle": "2020-12-21T09:26:49.317096Z",
     "shell.execute_reply": "2020-12-21T09:26:49.316376Z"
    },
    "papermill": {
     "duration": 1.473748,
     "end_time": "2020-12-21T09:26:49.317230",
     "exception": false,
     "start_time": "2020-12-21T09:26:47.843482",
     "status": "completed"
    },
    "tags": []
   },
   "outputs": [],
   "source": [
    "import pandas as pd\n",
    "import numpy as np\n",
    "from sklearn.feature_extraction.text import TfidfVectorizer\n",
    "import gensim "
   ]
  },
  {
   "cell_type": "code",
   "execution_count": 2,
   "metadata": {
    "execution": {
     "iopub.execute_input": "2020-12-21T09:26:49.362063Z",
     "iopub.status.busy": "2020-12-21T09:26:49.361012Z",
     "iopub.status.idle": "2020-12-21T09:26:49.366885Z",
     "shell.execute_reply": "2020-12-21T09:26:49.366335Z"
    },
    "papermill": {
     "duration": 0.028482,
     "end_time": "2020-12-21T09:26:49.367019",
     "exception": false,
     "start_time": "2020-12-21T09:26:49.338537",
     "status": "completed"
    },
    "tags": []
   },
   "outputs": [],
   "source": [
    "import warnings\n",
    "warnings.filterwarnings(action='ignore')"
   ]
  },
  {
   "cell_type": "code",
   "execution_count": 3,
   "metadata": {
    "execution": {
     "iopub.execute_input": "2020-12-21T09:26:49.410812Z",
     "iopub.status.busy": "2020-12-21T09:26:49.409758Z",
     "iopub.status.idle": "2020-12-21T09:26:49.413346Z",
     "shell.execute_reply": "2020-12-21T09:26:49.412820Z"
    },
    "papermill": {
     "duration": 0.027402,
     "end_time": "2020-12-21T09:26:49.413481",
     "exception": false,
     "start_time": "2020-12-21T09:26:49.386079",
     "status": "completed"
    },
    "tags": []
   },
   "outputs": [],
   "source": [
    "# 경로의 경우 각자의 환경에 맞게 설정해주면 됩니다. \n",
    "path = '../input/t-academy-recommendation2/movies/'"
   ]
  },
  {
   "cell_type": "code",
   "execution_count": 4,
   "metadata": {
    "execution": {
     "iopub.execute_input": "2020-12-21T09:26:49.467575Z",
     "iopub.status.busy": "2020-12-21T09:26:49.466829Z",
     "iopub.status.idle": "2020-12-21T09:26:49.580910Z",
     "shell.execute_reply": "2020-12-21T09:26:49.580310Z"
    },
    "papermill": {
     "duration": 0.14829,
     "end_time": "2020-12-21T09:26:49.581047",
     "exception": false,
     "start_time": "2020-12-21T09:26:49.432757",
     "status": "completed"
    },
    "tags": []
   },
   "outputs": [
    {
     "data": {
      "text/html": [
       "<div>\n",
       "<style scoped>\n",
       "    .dataframe tbody tr th:only-of-type {\n",
       "        vertical-align: middle;\n",
       "    }\n",
       "\n",
       "    .dataframe tbody tr th {\n",
       "        vertical-align: top;\n",
       "    }\n",
       "\n",
       "    .dataframe thead th {\n",
       "        text-align: right;\n",
       "    }\n",
       "</style>\n",
       "<table border=\"1\" class=\"dataframe\">\n",
       "  <thead>\n",
       "    <tr style=\"text-align: right;\">\n",
       "      <th></th>\n",
       "      <th>userId</th>\n",
       "      <th>movieId</th>\n",
       "      <th>rating</th>\n",
       "      <th>timestamp</th>\n",
       "    </tr>\n",
       "  </thead>\n",
       "  <tbody>\n",
       "    <tr>\n",
       "      <th>0</th>\n",
       "      <td>1</td>\n",
       "      <td>31</td>\n",
       "      <td>2.5</td>\n",
       "      <td>1260759144</td>\n",
       "    </tr>\n",
       "    <tr>\n",
       "      <th>1</th>\n",
       "      <td>1</td>\n",
       "      <td>1029</td>\n",
       "      <td>3.0</td>\n",
       "      <td>1260759179</td>\n",
       "    </tr>\n",
       "  </tbody>\n",
       "</table>\n",
       "</div>"
      ],
      "text/plain": [
       "   userId  movieId  rating   timestamp\n",
       "0       1       31     2.5  1260759144\n",
       "1       1     1029     3.0  1260759179"
      ]
     },
     "execution_count": 4,
     "metadata": {},
     "output_type": "execute_result"
    }
   ],
   "source": [
    "movie = pd.read_csv(path + 'ratings.csv', low_memory=False)\n",
    "movie.head(2)"
   ]
  },
  {
   "cell_type": "code",
   "execution_count": 5,
   "metadata": {
    "execution": {
     "iopub.execute_input": "2020-12-21T09:26:49.629292Z",
     "iopub.status.busy": "2020-12-21T09:26:49.628393Z",
     "iopub.status.idle": "2020-12-21T09:26:49.654471Z",
     "shell.execute_reply": "2020-12-21T09:26:49.653773Z"
    },
    "papermill": {
     "duration": 0.051695,
     "end_time": "2020-12-21T09:26:49.654593",
     "exception": false,
     "start_time": "2020-12-21T09:26:49.602898",
     "status": "completed"
    },
    "tags": []
   },
   "outputs": [
    {
     "data": {
      "text/html": [
       "<div>\n",
       "<style scoped>\n",
       "    .dataframe tbody tr th:only-of-type {\n",
       "        vertical-align: middle;\n",
       "    }\n",
       "\n",
       "    .dataframe tbody tr th {\n",
       "        vertical-align: top;\n",
       "    }\n",
       "\n",
       "    .dataframe thead th {\n",
       "        text-align: right;\n",
       "    }\n",
       "</style>\n",
       "<table border=\"1\" class=\"dataframe\">\n",
       "  <thead>\n",
       "    <tr style=\"text-align: right;\">\n",
       "      <th></th>\n",
       "      <th>userId</th>\n",
       "      <th>movieId</th>\n",
       "      <th>rating</th>\n",
       "      <th>timestamp</th>\n",
       "    </tr>\n",
       "  </thead>\n",
       "  <tbody>\n",
       "    <tr>\n",
       "      <th>0</th>\n",
       "      <td>383</td>\n",
       "      <td>21</td>\n",
       "      <td>3.0</td>\n",
       "      <td>789652009</td>\n",
       "    </tr>\n",
       "    <tr>\n",
       "      <th>1</th>\n",
       "      <td>383</td>\n",
       "      <td>47</td>\n",
       "      <td>5.0</td>\n",
       "      <td>789652009</td>\n",
       "    </tr>\n",
       "    <tr>\n",
       "      <th>2</th>\n",
       "      <td>383</td>\n",
       "      <td>1079</td>\n",
       "      <td>3.0</td>\n",
       "      <td>789652009</td>\n",
       "    </tr>\n",
       "    <tr>\n",
       "      <th>3</th>\n",
       "      <td>409</td>\n",
       "      <td>21</td>\n",
       "      <td>5.0</td>\n",
       "      <td>828212412</td>\n",
       "    </tr>\n",
       "    <tr>\n",
       "      <th>4</th>\n",
       "      <td>409</td>\n",
       "      <td>25</td>\n",
       "      <td>4.0</td>\n",
       "      <td>828212412</td>\n",
       "    </tr>\n",
       "  </tbody>\n",
       "</table>\n",
       "</div>"
      ],
      "text/plain": [
       "   userId  movieId  rating  timestamp\n",
       "0     383       21     3.0  789652009\n",
       "1     383       47     5.0  789652009\n",
       "2     383     1079     3.0  789652009\n",
       "3     409       21     5.0  828212412\n",
       "4     409       25     4.0  828212412"
      ]
     },
     "execution_count": 5,
     "metadata": {},
     "output_type": "execute_result"
    }
   ],
   "source": [
    "movie = movie.sort_values(by='timestamp', ascending=True).reset_index(drop=True)\n",
    "movie.head()"
   ]
  },
  {
   "cell_type": "code",
   "execution_count": 6,
   "metadata": {
    "execution": {
     "iopub.execute_input": "2020-12-21T09:26:49.704781Z",
     "iopub.status.busy": "2020-12-21T09:26:49.704034Z",
     "iopub.status.idle": "2020-12-21T09:26:50.849378Z",
     "shell.execute_reply": "2020-12-21T09:26:50.848321Z"
    },
    "papermill": {
     "duration": 1.174588,
     "end_time": "2020-12-21T09:26:50.849516",
     "exception": false,
     "start_time": "2020-12-21T09:26:49.674928",
     "status": "completed"
    },
    "tags": []
   },
   "outputs": [
    {
     "data": {
      "text/html": [
       "<div>\n",
       "<style scoped>\n",
       "    .dataframe tbody tr th:only-of-type {\n",
       "        vertical-align: middle;\n",
       "    }\n",
       "\n",
       "    .dataframe tbody tr th {\n",
       "        vertical-align: top;\n",
       "    }\n",
       "\n",
       "    .dataframe thead th {\n",
       "        text-align: right;\n",
       "    }\n",
       "</style>\n",
       "<table border=\"1\" class=\"dataframe\">\n",
       "  <thead>\n",
       "    <tr style=\"text-align: right;\">\n",
       "      <th></th>\n",
       "      <th>adult</th>\n",
       "      <th>belongs_to_collection</th>\n",
       "      <th>budget</th>\n",
       "      <th>genres</th>\n",
       "      <th>homepage</th>\n",
       "      <th>id</th>\n",
       "      <th>imdb_id</th>\n",
       "      <th>original_language</th>\n",
       "      <th>original_title</th>\n",
       "      <th>overview</th>\n",
       "      <th>...</th>\n",
       "      <th>release_date</th>\n",
       "      <th>revenue</th>\n",
       "      <th>runtime</th>\n",
       "      <th>spoken_languages</th>\n",
       "      <th>status</th>\n",
       "      <th>tagline</th>\n",
       "      <th>title</th>\n",
       "      <th>video</th>\n",
       "      <th>vote_average</th>\n",
       "      <th>vote_count</th>\n",
       "    </tr>\n",
       "  </thead>\n",
       "  <tbody>\n",
       "    <tr>\n",
       "      <th>0</th>\n",
       "      <td>False</td>\n",
       "      <td>{'id': 10194, 'name': 'Toy Story Collection', ...</td>\n",
       "      <td>30000000</td>\n",
       "      <td>[{'id': 16, 'name': 'Animation'}, {'id': 35, '...</td>\n",
       "      <td>http://toystory.disney.com/toy-story</td>\n",
       "      <td>862</td>\n",
       "      <td>tt0114709</td>\n",
       "      <td>en</td>\n",
       "      <td>Toy Story</td>\n",
       "      <td>Led by Woody, Andy's toys live happily in his ...</td>\n",
       "      <td>...</td>\n",
       "      <td>1995-10-30</td>\n",
       "      <td>373554033.0</td>\n",
       "      <td>81.0</td>\n",
       "      <td>[{'iso_639_1': 'en', 'name': 'English'}]</td>\n",
       "      <td>Released</td>\n",
       "      <td>NaN</td>\n",
       "      <td>Toy Story</td>\n",
       "      <td>False</td>\n",
       "      <td>7.7</td>\n",
       "      <td>5415.0</td>\n",
       "    </tr>\n",
       "    <tr>\n",
       "      <th>1</th>\n",
       "      <td>False</td>\n",
       "      <td>NaN</td>\n",
       "      <td>65000000</td>\n",
       "      <td>[{'id': 12, 'name': 'Adventure'}, {'id': 14, '...</td>\n",
       "      <td>NaN</td>\n",
       "      <td>8844</td>\n",
       "      <td>tt0113497</td>\n",
       "      <td>en</td>\n",
       "      <td>Jumanji</td>\n",
       "      <td>When siblings Judy and Peter discover an encha...</td>\n",
       "      <td>...</td>\n",
       "      <td>1995-12-15</td>\n",
       "      <td>262797249.0</td>\n",
       "      <td>104.0</td>\n",
       "      <td>[{'iso_639_1': 'en', 'name': 'English'}, {'iso...</td>\n",
       "      <td>Released</td>\n",
       "      <td>Roll the dice and unleash the excitement!</td>\n",
       "      <td>Jumanji</td>\n",
       "      <td>False</td>\n",
       "      <td>6.9</td>\n",
       "      <td>2413.0</td>\n",
       "    </tr>\n",
       "  </tbody>\n",
       "</table>\n",
       "<p>2 rows × 24 columns</p>\n",
       "</div>"
      ],
      "text/plain": [
       "   adult                              belongs_to_collection    budget  \\\n",
       "0  False  {'id': 10194, 'name': 'Toy Story Collection', ...  30000000   \n",
       "1  False                                                NaN  65000000   \n",
       "\n",
       "                                              genres  \\\n",
       "0  [{'id': 16, 'name': 'Animation'}, {'id': 35, '...   \n",
       "1  [{'id': 12, 'name': 'Adventure'}, {'id': 14, '...   \n",
       "\n",
       "                               homepage    id    imdb_id original_language  \\\n",
       "0  http://toystory.disney.com/toy-story   862  tt0114709                en   \n",
       "1                                   NaN  8844  tt0113497                en   \n",
       "\n",
       "  original_title                                           overview  ...  \\\n",
       "0      Toy Story  Led by Woody, Andy's toys live happily in his ...  ...   \n",
       "1        Jumanji  When siblings Judy and Peter discover an encha...  ...   \n",
       "\n",
       "  release_date      revenue runtime  \\\n",
       "0   1995-10-30  373554033.0    81.0   \n",
       "1   1995-12-15  262797249.0   104.0   \n",
       "\n",
       "                                    spoken_languages    status  \\\n",
       "0           [{'iso_639_1': 'en', 'name': 'English'}]  Released   \n",
       "1  [{'iso_639_1': 'en', 'name': 'English'}, {'iso...  Released   \n",
       "\n",
       "                                     tagline      title  video vote_average  \\\n",
       "0                                        NaN  Toy Story  False          7.7   \n",
       "1  Roll the dice and unleash the excitement!    Jumanji  False          6.9   \n",
       "\n",
       "  vote_count  \n",
       "0     5415.0  \n",
       "1     2413.0  \n",
       "\n",
       "[2 rows x 24 columns]"
      ]
     },
     "execution_count": 6,
     "metadata": {},
     "output_type": "execute_result"
    }
   ],
   "source": [
    "# 영화의 Metadata를 불러와서 movieID에 맞는 TITLE을 구해줍니다. \n",
    "meta = pd.read_csv(path + 'movies_metadata.csv', low_memory=False)\n",
    "meta.head(2)"
   ]
  },
  {
   "cell_type": "code",
   "execution_count": 7,
   "metadata": {
    "execution": {
     "iopub.execute_input": "2020-12-21T09:26:50.900534Z",
     "iopub.status.busy": "2020-12-21T09:26:50.899872Z",
     "iopub.status.idle": "2020-12-21T09:26:50.905774Z",
     "shell.execute_reply": "2020-12-21T09:26:50.905093Z"
    },
    "papermill": {
     "duration": 0.032492,
     "end_time": "2020-12-21T09:26:50.905892",
     "exception": false,
     "start_time": "2020-12-21T09:26:50.873400",
     "status": "completed"
    },
    "tags": []
   },
   "outputs": [
    {
     "data": {
      "text/plain": [
       "Index(['adult', 'belongs_to_collection', 'budget', 'genres', 'homepage', 'id',\n",
       "       'imdb_id', 'original_language', 'original_title', 'overview',\n",
       "       'popularity', 'poster_path', 'production_companies',\n",
       "       'production_countries', 'release_date', 'revenue', 'runtime',\n",
       "       'spoken_languages', 'status', 'tagline', 'title', 'video',\n",
       "       'vote_average', 'vote_count'],\n",
       "      dtype='object')"
      ]
     },
     "execution_count": 7,
     "metadata": {},
     "output_type": "execute_result"
    }
   ],
   "source": [
    "meta.columns"
   ]
  },
  {
   "cell_type": "code",
   "execution_count": 8,
   "metadata": {
    "execution": {
     "iopub.execute_input": "2020-12-21T09:26:50.972440Z",
     "iopub.status.busy": "2020-12-21T09:26:50.956856Z",
     "iopub.status.idle": "2020-12-21T09:26:51.198923Z",
     "shell.execute_reply": "2020-12-21T09:26:51.198213Z"
    },
    "papermill": {
     "duration": 0.270452,
     "end_time": "2020-12-21T09:26:51.199042",
     "exception": false,
     "start_time": "2020-12-21T09:26:50.928590",
     "status": "completed"
    },
    "tags": []
   },
   "outputs": [],
   "source": [
    "meta = meta.rename(columns={'id':'movieId'})\n",
    "movie['movieId'] = movie['movieId'].astype(str)\n",
    "meta['movieId'] = meta['movieId'].astype(str)\n",
    "\n",
    "movie = pd.merge(movie, meta[['movieId', 'original_title']], how='left', on='movieId')"
   ]
  },
  {
   "cell_type": "raw",
   "metadata": {
    "papermill": {
     "duration": 0.021263,
     "end_time": "2020-12-21T09:26:51.242131",
     "exception": false,
     "start_time": "2020-12-21T09:26:51.220868",
     "status": "completed"
    },
    "tags": []
   },
   "source": [
    "# UserId 별 MovidID 구매 목록을 생성 \n",
    "item_agg = movie.groupby(['title'])['userId'].agg({'nunique'}).reset_index()\n",
    "item_agg = item_agg[item_agg['nunique'] >= 5]['title'].values\n",
    "\n",
    "user_agg = movie.groupby(['userId'])['title'].agg({'nunique'}).reset_index()\n",
    "user_agg = user_agg[user_agg['nunique'] >= 5]['userId'].values"
   ]
  },
  {
   "cell_type": "raw",
   "metadata": {
    "papermill": {
     "duration": 0.021375,
     "end_time": "2020-12-21T09:26:51.285214",
     "exception": false,
     "start_time": "2020-12-21T09:26:51.263839",
     "status": "completed"
    },
    "tags": []
   },
   "source": [
    "# 전처리 수행 \n",
    "# 성능향상을 위해 5회 미만 구매된 상품, 5회 미만 구매한 고객은 제외하고 분석진행\n",
    "movie['check1'] = 0\n",
    "movie.loc[movie['title'].isin(item_agg), 'check1'] = 1\n",
    "\n",
    "movie['check2'] = 0\n",
    "movie.loc[movie['userId'].isin(user_agg), 'check2'] = 1\n",
    "\n",
    "movie = movie.loc[(movie['check1'] == 1) & (movie['check2'] == 1)].reset_index(drop=True)"
   ]
  },
  {
   "cell_type": "code",
   "execution_count": 9,
   "metadata": {
    "execution": {
     "iopub.execute_input": "2020-12-21T09:26:51.342592Z",
     "iopub.status.busy": "2020-12-21T09:26:51.341902Z",
     "iopub.status.idle": "2020-12-21T09:26:51.360112Z",
     "shell.execute_reply": "2020-12-21T09:26:51.360686Z"
    },
    "papermill": {
     "duration": 0.053823,
     "end_time": "2020-12-21T09:26:51.360848",
     "exception": false,
     "start_time": "2020-12-21T09:26:51.307025",
     "status": "completed"
    },
    "tags": []
   },
   "outputs": [],
   "source": [
    "movie = movie[movie['original_title'].notnull()].reset_index(drop=True)"
   ]
  },
  {
   "cell_type": "code",
   "execution_count": 10,
   "metadata": {
    "execution": {
     "iopub.execute_input": "2020-12-21T09:26:51.411266Z",
     "iopub.status.busy": "2020-12-21T09:26:51.410583Z",
     "iopub.status.idle": "2020-12-21T09:26:51.496443Z",
     "shell.execute_reply": "2020-12-21T09:26:51.495807Z"
    },
    "papermill": {
     "duration": 0.113723,
     "end_time": "2020-12-21T09:26:51.496576",
     "exception": false,
     "start_time": "2020-12-21T09:26:51.382853",
     "status": "completed"
    },
    "tags": []
   },
   "outputs": [
    {
     "data": {
      "text/html": [
       "<div>\n",
       "<style scoped>\n",
       "    .dataframe tbody tr th:only-of-type {\n",
       "        vertical-align: middle;\n",
       "    }\n",
       "\n",
       "    .dataframe tbody tr th {\n",
       "        vertical-align: top;\n",
       "    }\n",
       "\n",
       "    .dataframe thead th {\n",
       "        text-align: right;\n",
       "    }\n",
       "</style>\n",
       "<table border=\"1\" class=\"dataframe\">\n",
       "  <thead>\n",
       "    <tr style=\"text-align: right;\">\n",
       "      <th></th>\n",
       "      <th>unique</th>\n",
       "    </tr>\n",
       "    <tr>\n",
       "      <th>userId</th>\n",
       "      <th></th>\n",
       "    </tr>\n",
       "  </thead>\n",
       "  <tbody>\n",
       "    <tr>\n",
       "      <th>1</th>\n",
       "      <td>[Jay and Silent Bob Strike Back, Vivement dima...</td>\n",
       "    </tr>\n",
       "    <tr>\n",
       "      <th>2</th>\n",
       "      <td>[Terminator 3: Rise of the Machines, The Conve...</td>\n",
       "    </tr>\n",
       "    <tr>\n",
       "      <th>3</th>\n",
       "      <td>[300, The Killing, Shortbus, Finding Neverland...</td>\n",
       "    </tr>\n",
       "    <tr>\n",
       "      <th>4</th>\n",
       "      <td>[David, The Wedding Planner, Casablanca, Sleep...</td>\n",
       "    </tr>\n",
       "    <tr>\n",
       "      <th>5</th>\n",
       "      <td>[Gleaming the Cube, Cool Hand Luke, Hidalgo, U...</td>\n",
       "    </tr>\n",
       "  </tbody>\n",
       "</table>\n",
       "</div>"
      ],
      "text/plain": [
       "                                                   unique\n",
       "userId                                                   \n",
       "1       [Jay and Silent Bob Strike Back, Vivement dima...\n",
       "2       [Terminator 3: Rise of the Machines, The Conve...\n",
       "3       [300, The Killing, Shortbus, Finding Neverland...\n",
       "4       [David, The Wedding Planner, Casablanca, Sleep...\n",
       "5       [Gleaming the Cube, Cool Hand Luke, Hidalgo, U..."
      ]
     },
     "execution_count": 10,
     "metadata": {},
     "output_type": "execute_result"
    }
   ],
   "source": [
    "agg = movie.groupby(['userId'])['original_title'].agg({'unique'})\n",
    "agg.head()"
   ]
  },
  {
   "cell_type": "code",
   "execution_count": 11,
   "metadata": {
    "execution": {
     "iopub.execute_input": "2020-12-21T09:26:51.559588Z",
     "iopub.status.busy": "2020-12-21T09:26:51.558307Z",
     "iopub.status.idle": "2020-12-21T09:26:51.572928Z",
     "shell.execute_reply": "2020-12-21T09:26:51.572067Z"
    },
    "papermill": {
     "duration": 0.053689,
     "end_time": "2020-12-21T09:26:51.573123",
     "exception": false,
     "start_time": "2020-12-21T09:26:51.519434",
     "status": "completed"
    },
    "tags": []
   },
   "outputs": [
    {
     "data": {
      "text/plain": [
       "array(['The Endless Summer', 'Jarhead', '彼女の想いで', ...,\n",
       "       'The Lonedale Operator', 'Violeta se fue a los cielos',\n",
       "       'To Kill a Priest'], dtype=object)"
      ]
     },
     "execution_count": 11,
     "metadata": {},
     "output_type": "execute_result"
    }
   ],
   "source": [
    "movie['original_title'].unique()"
   ]
  },
  {
   "cell_type": "markdown",
   "metadata": {
    "papermill": {
     "duration": 0.035375,
     "end_time": "2020-12-21T09:26:51.638458",
     "exception": false,
     "start_time": "2020-12-21T09:26:51.603083",
     "status": "completed"
    },
    "tags": []
   },
   "source": [
    "Word2vec 적용"
   ]
  },
  {
   "cell_type": "code",
   "execution_count": 12,
   "metadata": {
    "execution": {
     "iopub.execute_input": "2020-12-21T09:26:51.711935Z",
     "iopub.status.busy": "2020-12-21T09:26:51.710886Z",
     "iopub.status.idle": "2020-12-21T09:26:51.714503Z",
     "shell.execute_reply": "2020-12-21T09:26:51.713842Z"
    },
    "papermill": {
     "duration": 0.046802,
     "end_time": "2020-12-21T09:26:51.714623",
     "exception": false,
     "start_time": "2020-12-21T09:26:51.667821",
     "status": "completed"
    },
    "tags": []
   },
   "outputs": [],
   "source": [
    "# int형식은 Word2vec에서 학습이 안되어서 String으로 변경해줍니다. \n",
    "sentence = []\n",
    "for user_sentence in agg['unique'].values:\n",
    "    sentence.append(list(map(str, user_sentence)))"
   ]
  },
  {
   "cell_type": "code",
   "execution_count": 13,
   "metadata": {
    "execution": {
     "iopub.execute_input": "2020-12-21T09:26:51.789276Z",
     "iopub.status.busy": "2020-12-21T09:26:51.781176Z",
     "iopub.status.idle": "2020-12-21T09:27:23.311524Z",
     "shell.execute_reply": "2020-12-21T09:27:23.310816Z"
    },
    "papermill": {
     "duration": 31.572666,
     "end_time": "2020-12-21T09:27:23.311648",
     "exception": false,
     "start_time": "2020-12-21T09:26:51.738982",
     "status": "completed"
    },
    "tags": []
   },
   "outputs": [],
   "source": [
    "# Word2vec의 학습을 진행해줍니다. \n",
    "from gensim.models import Word2Vec\n",
    "embedding_model = Word2Vec(sentence, size=20, window = 5, \n",
    "                           min_count=1, workers=4, iter=200, sg=1)"
   ]
  },
  {
   "cell_type": "code",
   "execution_count": 14,
   "metadata": {
    "execution": {
     "iopub.execute_input": "2020-12-21T09:27:23.371639Z",
     "iopub.status.busy": "2020-12-21T09:27:23.370936Z",
     "iopub.status.idle": "2020-12-21T09:27:23.406349Z",
     "shell.execute_reply": "2020-12-21T09:27:23.407169Z"
    },
    "papermill": {
     "duration": 0.069636,
     "end_time": "2020-12-21T09:27:23.407360",
     "exception": false,
     "start_time": "2020-12-21T09:27:23.337724",
     "status": "completed"
    },
    "tags": []
   },
   "outputs": [
    {
     "data": {
      "text/plain": [
       "[('Snow Cake', 0.8088151216506958),\n",
       " ('Snow White and the Seven Dwarfs', 0.7657022476196289),\n",
       " (\"L'Aile ou la Cuisse\", 0.7655735015869141),\n",
       " ('Heavenly Creatures', 0.762415885925293),\n",
       " ('Sunrise: A Song of Two Humans', 0.7483514547348022),\n",
       " (\"11'09''01 - September 11\", 0.7476631999015808),\n",
       " ('Face/Off', 0.7403966188430786),\n",
       " ('Domicile Conjugal', 0.7368675470352173),\n",
       " ('Harry Potter and the Prisoner of Azkaban', 0.7272087335586548),\n",
       " ('El laberinto del fauno', 0.7235374450683594)]"
      ]
     },
     "execution_count": 14,
     "metadata": {},
     "output_type": "execute_result"
    }
   ],
   "source": [
    "embedding_model.wv.most_similar(positive=['Spider-Man 2'], topn=10)"
   ]
  },
  {
   "cell_type": "markdown",
   "metadata": {
    "papermill": {
     "duration": 0.023846,
     "end_time": "2020-12-21T09:27:23.458820",
     "exception": false,
     "start_time": "2020-12-21T09:27:23.434974",
     "status": "completed"
    },
    "tags": []
   },
   "source": [
    "## Doc2Vec 적용"
   ]
  },
  {
   "cell_type": "markdown",
   "metadata": {
    "papermill": {
     "duration": 0.029015,
     "end_time": "2020-12-21T09:27:23.512286",
     "exception": false,
     "start_time": "2020-12-21T09:27:23.483271",
     "status": "completed"
    },
    "tags": []
   },
   "source": [
    "![](https://drive.google.com/uc?export=view&id=1g2ausKfoaAT0jMwSatRUG3fiGWfDuysV\n",
    ")"
   ]
  },
  {
   "cell_type": "code",
   "execution_count": 15,
   "metadata": {
    "execution": {
     "iopub.execute_input": "2020-12-21T09:27:23.567981Z",
     "iopub.status.busy": "2020-12-21T09:27:23.566962Z",
     "iopub.status.idle": "2020-12-21T09:27:23.570411Z",
     "shell.execute_reply": "2020-12-21T09:27:23.569793Z"
    },
    "papermill": {
     "duration": 0.034156,
     "end_time": "2020-12-21T09:27:23.570523",
     "exception": false,
     "start_time": "2020-12-21T09:27:23.536367",
     "status": "completed"
    },
    "tags": []
   },
   "outputs": [],
   "source": [
    "from gensim.models import doc2vec"
   ]
  },
  {
   "cell_type": "code",
   "execution_count": 16,
   "metadata": {
    "execution": {
     "iopub.execute_input": "2020-12-21T09:27:23.626296Z",
     "iopub.status.busy": "2020-12-21T09:27:23.625279Z",
     "iopub.status.idle": "2020-12-21T09:27:24.435283Z",
     "shell.execute_reply": "2020-12-21T09:27:24.435853Z"
    },
    "papermill": {
     "duration": 0.838003,
     "end_time": "2020-12-21T09:27:24.436000",
     "exception": false,
     "start_time": "2020-12-21T09:27:23.597997",
     "status": "completed"
    },
    "tags": []
   },
   "outputs": [],
   "source": [
    "meta = pd.read_csv(path + 'movies_metadata.csv', low_memory=False)\n",
    "meta = meta[meta['original_title'].notnull()].reset_index(drop=True)\n",
    "meta = meta[meta['overview'].notnull()].reset_index(drop=True)"
   ]
  },
  {
   "cell_type": "code",
   "execution_count": 17,
   "metadata": {
    "execution": {
     "iopub.execute_input": "2020-12-21T09:27:24.494489Z",
     "iopub.status.busy": "2020-12-21T09:27:24.493706Z",
     "iopub.status.idle": "2020-12-21T09:28:33.735586Z",
     "shell.execute_reply": "2020-12-21T09:28:33.734600Z"
    },
    "papermill": {
     "duration": 69.275714,
     "end_time": "2020-12-21T09:28:33.735751",
     "exception": false,
     "start_time": "2020-12-21T09:27:24.460037",
     "status": "completed"
    },
    "tags": []
   },
   "outputs": [
    {
     "data": {
      "application/vnd.jupyter.widget-view+json": {
       "model_id": "c783249539e54c97995c41762b85c2b4",
       "version_major": 2,
       "version_minor": 0
      },
      "text/plain": [
       "HBox(children=(FloatProgress(value=0.0, max=44512.0), HTML(value='')))"
      ]
     },
     "metadata": {},
     "output_type": "display_data"
    },
    {
     "name": "stdout",
     "output_type": "stream",
     "text": [
      "\n"
     ]
    }
   ],
   "source": [
    "from nltk.corpus import stopwords \n",
    "from tqdm.notebook import tqdm\n",
    "from nltk.tokenize import word_tokenize, sent_tokenize\n",
    "import re \n",
    "stop_words = set(stopwords.words('english')) \n",
    "\n",
    "overview = []\n",
    "for words in tqdm(meta['overview']):\n",
    "    word_tokens = word_tokenize(words)\n",
    "    sentence = re.sub('[^A-Za-z0-9]+', ' ', str(word_tokens))\n",
    "    sentence = sentence.strip()\n",
    "    \n",
    "    sentence_tokens = word_tokenize(sentence)\n",
    "    result = ''\n",
    "    for token in sentence_tokens: \n",
    "        if token not in stop_words:\n",
    "            result += ' ' + token \n",
    "    result = result.strip().lower()\n",
    "    overview.append(result)"
   ]
  },
  {
   "cell_type": "code",
   "execution_count": 18,
   "metadata": {
    "execution": {
     "iopub.execute_input": "2020-12-21T09:28:33.805449Z",
     "iopub.status.busy": "2020-12-21T09:28:33.797517Z",
     "iopub.status.idle": "2020-12-21T09:28:33.810776Z",
     "shell.execute_reply": "2020-12-21T09:28:33.810055Z"
    },
    "papermill": {
     "duration": 0.049415,
     "end_time": "2020-12-21T09:28:33.810904",
     "exception": false,
     "start_time": "2020-12-21T09:28:33.761489",
     "status": "completed"
    },
    "tags": []
   },
   "outputs": [],
   "source": [
    "meta['pre_overview'] = overview"
   ]
  },
  {
   "cell_type": "code",
   "execution_count": 19,
   "metadata": {
    "execution": {
     "iopub.execute_input": "2020-12-21T09:28:33.869693Z",
     "iopub.status.busy": "2020-12-21T09:28:33.868799Z",
     "iopub.status.idle": "2020-12-21T09:28:33.872170Z",
     "shell.execute_reply": "2020-12-21T09:28:33.871578Z"
    },
    "papermill": {
     "duration": 0.036014,
     "end_time": "2020-12-21T09:28:33.872289",
     "exception": false,
     "start_time": "2020-12-21T09:28:33.836275",
     "status": "completed"
    },
    "tags": []
   },
   "outputs": [],
   "source": [
    "doc_vectorizer = doc2vec.Doc2Vec(\n",
    "    dm=0,            # PV-DBOW / default 1\n",
    "    dbow_words=1,    # w2v simultaneous with DBOW d2v / default 0\n",
    "    window=10,        # distance between the predicted word and context words\n",
    "    size=100,        # vector size\n",
    "    alpha=0.025,     # learning-rate\n",
    "    seed=1234,\n",
    "    min_count=5,    # ignore with freq lower\n",
    "    min_alpha=0.025, # min learning-rate\n",
    "    workers=4,   # multi cpu\n",
    "    hs = 1,          # hierar chical softmax / default 0\n",
    "    negative = 10   # negative sampling / default 5\n",
    ")"
   ]
  },
  {
   "cell_type": "code",
   "execution_count": 20,
   "metadata": {
    "execution": {
     "iopub.execute_input": "2020-12-21T09:28:33.930393Z",
     "iopub.status.busy": "2020-12-21T09:28:33.929660Z",
     "iopub.status.idle": "2020-12-21T09:28:34.186956Z",
     "shell.execute_reply": "2020-12-21T09:28:34.186265Z"
    },
    "papermill": {
     "duration": 0.289299,
     "end_time": "2020-12-21T09:28:34.187071",
     "exception": false,
     "start_time": "2020-12-21T09:28:33.897772",
     "status": "completed"
    },
    "tags": []
   },
   "outputs": [],
   "source": [
    "from collections import namedtuple\n",
    "\n",
    "agg = meta[['id', 'original_title', 'pre_overview']]\n",
    "TaggedDocument = namedtuple('TaggedDocument', 'words tags')\n",
    "tagged_train_docs = [TaggedDocument((c), [d]) for d, c in agg[['original_title', 'pre_overview']].values]"
   ]
  },
  {
   "cell_type": "code",
   "execution_count": 21,
   "metadata": {
    "execution": {
     "iopub.execute_input": "2020-12-21T09:28:34.259411Z",
     "iopub.status.busy": "2020-12-21T09:28:34.249028Z",
     "iopub.status.idle": "2020-12-21T09:28:51.843019Z",
     "shell.execute_reply": "2020-12-21T09:28:51.843717Z"
    },
    "papermill": {
     "duration": 17.631169,
     "end_time": "2020-12-21T09:28:51.843893",
     "exception": false,
     "start_time": "2020-12-21T09:28:34.212724",
     "status": "completed"
    },
    "tags": []
   },
   "outputs": [
    {
     "name": "stdout",
     "output_type": "stream",
     "text": [
      "Doc2Vec(dbow+w,d100,n10,hs,w10,mc5,s0.001,t4)\n"
     ]
    }
   ],
   "source": [
    "doc_vectorizer.build_vocab(tagged_train_docs)\n",
    "print(str(doc_vectorizer))"
   ]
  },
  {
   "cell_type": "code",
   "execution_count": 22,
   "metadata": {
    "execution": {
     "iopub.execute_input": "2020-12-21T09:28:51.906011Z",
     "iopub.status.busy": "2020-12-21T09:28:51.905229Z",
     "iopub.status.idle": "2020-12-21T09:43:20.570414Z",
     "shell.execute_reply": "2020-12-21T09:43:20.567004Z"
    },
    "papermill": {
     "duration": 868.699115,
     "end_time": "2020-12-21T09:43:20.570553",
     "exception": false,
     "start_time": "2020-12-21T09:28:51.871438",
     "status": "completed"
    },
    "tags": []
   },
   "outputs": [
    {
     "data": {
      "application/vnd.jupyter.widget-view+json": {
       "model_id": "f931f0b3d9e04015a8ff86a228b9af59",
       "version_major": 2,
       "version_minor": 0
      },
      "text/plain": [
       "HBox(children=(FloatProgress(value=0.0, max=5.0), HTML(value='')))"
      ]
     },
     "metadata": {},
     "output_type": "display_data"
    },
    {
     "name": "stdout",
     "output_type": "stream",
     "text": [
      "\n",
      "During Time: 868.6329123973846\n"
     ]
    }
   ],
   "source": [
    "# 벡터 문서 학습\n",
    "from time import time\n",
    "\n",
    "start = time()\n",
    "\n",
    "for epoch in tqdm(range(5)):\n",
    "    doc_vectorizer.train(tagged_train_docs, total_examples=doc_vectorizer.corpus_count, epochs=doc_vectorizer.iter)\n",
    "    doc_vectorizer.alpha -= 0.002 # decrease the learning rate\n",
    "    doc_vectorizer.min_alpha = doc_vectorizer.alpha # fix the learning rate, no decay\n",
    "\n",
    "#doc_vectorizer.train(tagged_train_docs, total_examples=doc_vectorizer.corpus_count, epochs=doc_vectorizer.iter)\n",
    "end = time()\n",
    "print(\"During Time: {}\".format(end-start))"
   ]
  },
  {
   "cell_type": "code",
   "execution_count": 23,
   "metadata": {
    "execution": {
     "iopub.execute_input": "2020-12-21T09:43:20.631888Z",
     "iopub.status.busy": "2020-12-21T09:43:20.631090Z",
     "iopub.status.idle": "2020-12-21T09:43:20.682315Z",
     "shell.execute_reply": "2020-12-21T09:43:20.682860Z"
    },
    "papermill": {
     "duration": 0.085262,
     "end_time": "2020-12-21T09:43:20.683029",
     "exception": false,
     "start_time": "2020-12-21T09:43:20.597767",
     "status": "completed"
    },
    "tags": []
   },
   "outputs": [
    {
     "data": {
      "text/plain": [
       "[('It Stains the Sands Red', 0.7269709706306458),\n",
       " ('Unstrung Heroes', 0.7174409031867981),\n",
       " ('Due Amici', 0.7136842012405396),\n",
       " ('La moutarde me monte au nez', 0.7097397446632385),\n",
       " ('Children in the Surf at Coney Island', 0.6954304575920105),\n",
       " ('Live Forever as You Are Now with Alan Resnick', 0.6951810717582703),\n",
       " ('Letzte Worte', 0.694780170917511),\n",
       " ('Skazka o Poteryannom Vremeni', 0.6917924880981445),\n",
       " ('Killing Zoe', 0.6796911954879761),\n",
       " ('Testről és lélekről', 0.6681605577468872),\n",
       " (\"Independents' Day\", 0.6628682017326355),\n",
       " ('Meet Me in Venice', 0.662304699420929),\n",
       " ('Trois vies et une seule mort', 0.6607695817947388),\n",
       " ('エクスマキナ', 0.6600291132926941),\n",
       " ('El vendedor de humo', 0.6584940552711487),\n",
       " ('The Aristocats', 0.6533187031745911),\n",
       " ('Wszyscy jesteśmy Chrystusami', 0.6474179029464722),\n",
       " ('Begegnung mit Fritz Lang', 0.6451306343078613),\n",
       " ('Return to the Batcave: The Misadventures of Adam and Burt',\n",
       "  0.6444643139839172),\n",
       " ('Milk Money', 0.6425882577896118)]"
      ]
     },
     "execution_count": 23,
     "metadata": {},
     "output_type": "execute_result"
    }
   ],
   "source": [
    "doc_vectorizer.docvecs.most_similar('Toy Story', topn=20)"
   ]
  },
  {
   "cell_type": "code",
   "execution_count": 24,
   "metadata": {
    "execution": {
     "iopub.execute_input": "2020-12-21T09:43:20.773077Z",
     "iopub.status.busy": "2020-12-21T09:43:20.771979Z",
     "iopub.status.idle": "2020-12-21T09:43:20.781370Z",
     "shell.execute_reply": "2020-12-21T09:43:20.782382Z"
    },
    "papermill": {
     "duration": 0.054131,
     "end_time": "2020-12-21T09:43:20.782614",
     "exception": false,
     "start_time": "2020-12-21T09:43:20.728483",
     "status": "completed"
    },
    "tags": []
   },
   "outputs": [
    {
     "data": {
      "text/plain": [
       "[('Hatchet II', 0.7217295169830322),\n",
       " ('The Mad Miss Manton', 0.6965864896774292),\n",
       " ('Soloalbum', 0.6962880492210388),\n",
       " ('Handsome Harry', 0.6917732954025269),\n",
       " ('Winnie the Pooh and the Honey Tree', 0.6841850876808167),\n",
       " ('The Princess and the Goblin', 0.6834225654602051),\n",
       " ('Winnie the Pooh and a Day for Eeyore', 0.6833527088165283),\n",
       " (\"I Don't Know How She Does It\", 0.6819157600402832),\n",
       " ('Just Go with It', 0.67984938621521),\n",
       " ('$ Dollars', 0.6774436235427856),\n",
       " ('Train', 0.674703061580658),\n",
       " ('Bulldog Drummond Escapes', 0.6741313934326172),\n",
       " ('1990: I guerrieri del Bronx', 0.6741003394126892),\n",
       " ('Zamilované Maso', 0.6739451289176941),\n",
       " ('Riot in Cell Block 11', 0.6702640056610107),\n",
       " ('La Neuvaine', 0.6693864464759827),\n",
       " ('The Green Years', 0.6691372990608215),\n",
       " ('The Overbrook Brothers', 0.668933093547821),\n",
       " ('Se sei vivo spara', 0.6686355471611023),\n",
       " ('Hævnen', 0.6685347557067871)]"
      ]
     },
     "execution_count": 24,
     "metadata": {},
     "output_type": "execute_result"
    }
   ],
   "source": [
    "doc_vectorizer.docvecs.most_similar('Harry Potter and the Deathly Hallows: Part 1', topn=20)"
   ]
  },
  {
   "cell_type": "code",
   "execution_count": null,
   "metadata": {
    "papermill": {
     "duration": 0.047829,
     "end_time": "2020-12-21T09:43:20.877541",
     "exception": false,
     "start_time": "2020-12-21T09:43:20.829712",
     "status": "completed"
    },
    "tags": []
   },
   "outputs": [],
   "source": []
  }
 ],
 "metadata": {
  "kernelspec": {
   "display_name": "Python 3",
   "language": "python",
   "name": "python3"
  },
  "language_info": {
   "codemirror_mode": {
    "name": "ipython",
    "version": 3
   },
   "file_extension": ".py",
   "mimetype": "text/x-python",
   "name": "python",
   "nbconvert_exporter": "python",
   "pygments_lexer": "ipython3",
   "version": "3.7.6"
  },
  "papermill": {
   "duration": 998.577528,
   "end_time": "2020-12-21T09:43:21.035035",
   "environment_variables": {},
   "exception": null,
   "input_path": "__notebook__.ipynb",
   "output_path": "__notebook__.ipynb",
   "parameters": {},
   "start_time": "2020-12-21T09:26:42.457507",
   "version": "2.1.0"
  },
  "widgets": {
   "application/vnd.jupyter.widget-state+json": {
    "state": {
     "00d782de22d94ecabca2fcb4029a928f": {
      "model_module": "@jupyter-widgets/controls",
      "model_module_version": "1.5.0",
      "model_name": "FloatProgressModel",
      "state": {
       "_dom_classes": [],
       "_model_module": "@jupyter-widgets/controls",
       "_model_module_version": "1.5.0",
       "_model_name": "FloatProgressModel",
       "_view_count": null,
       "_view_module": "@jupyter-widgets/controls",
       "_view_module_version": "1.5.0",
       "_view_name": "ProgressView",
       "bar_style": "success",
       "description": "100%",
       "description_tooltip": null,
       "layout": "IPY_MODEL_0d7cf9f2a0df46feab4cd4bfbecbfe27",
       "max": 5.0,
       "min": 0.0,
       "orientation": "horizontal",
       "style": "IPY_MODEL_aa8f6a501a6e4bb3bb01a8ac1add905e",
       "value": 5.0
      }
     },
     "09088acc71eb4f3d8fd33de0e25d525a": {
      "model_module": "@jupyter-widgets/controls",
      "model_module_version": "1.5.0",
      "model_name": "ProgressStyleModel",
      "state": {
       "_model_module": "@jupyter-widgets/controls",
       "_model_module_version": "1.5.0",
       "_model_name": "ProgressStyleModel",
       "_view_count": null,
       "_view_module": "@jupyter-widgets/base",
       "_view_module_version": "1.2.0",
       "_view_name": "StyleView",
       "bar_color": null,
       "description_width": "initial"
      }
     },
     "0d7cf9f2a0df46feab4cd4bfbecbfe27": {
      "model_module": "@jupyter-widgets/base",
      "model_module_version": "1.2.0",
      "model_name": "LayoutModel",
      "state": {
       "_model_module": "@jupyter-widgets/base",
       "_model_module_version": "1.2.0",
       "_model_name": "LayoutModel",
       "_view_count": null,
       "_view_module": "@jupyter-widgets/base",
       "_view_module_version": "1.2.0",
       "_view_name": "LayoutView",
       "align_content": null,
       "align_items": null,
       "align_self": null,
       "border": null,
       "bottom": null,
       "display": null,
       "flex": null,
       "flex_flow": null,
       "grid_area": null,
       "grid_auto_columns": null,
       "grid_auto_flow": null,
       "grid_auto_rows": null,
       "grid_column": null,
       "grid_gap": null,
       "grid_row": null,
       "grid_template_areas": null,
       "grid_template_columns": null,
       "grid_template_rows": null,
       "height": null,
       "justify_content": null,
       "justify_items": null,
       "left": null,
       "margin": null,
       "max_height": null,
       "max_width": null,
       "min_height": null,
       "min_width": null,
       "object_fit": null,
       "object_position": null,
       "order": null,
       "overflow": null,
       "overflow_x": null,
       "overflow_y": null,
       "padding": null,
       "right": null,
       "top": null,
       "visibility": null,
       "width": null
      }
     },
     "274de1465da944d1b92e4cc63d4427b1": {
      "model_module": "@jupyter-widgets/base",
      "model_module_version": "1.2.0",
      "model_name": "LayoutModel",
      "state": {
       "_model_module": "@jupyter-widgets/base",
       "_model_module_version": "1.2.0",
       "_model_name": "LayoutModel",
       "_view_count": null,
       "_view_module": "@jupyter-widgets/base",
       "_view_module_version": "1.2.0",
       "_view_name": "LayoutView",
       "align_content": null,
       "align_items": null,
       "align_self": null,
       "border": null,
       "bottom": null,
       "display": null,
       "flex": null,
       "flex_flow": null,
       "grid_area": null,
       "grid_auto_columns": null,
       "grid_auto_flow": null,
       "grid_auto_rows": null,
       "grid_column": null,
       "grid_gap": null,
       "grid_row": null,
       "grid_template_areas": null,
       "grid_template_columns": null,
       "grid_template_rows": null,
       "height": null,
       "justify_content": null,
       "justify_items": null,
       "left": null,
       "margin": null,
       "max_height": null,
       "max_width": null,
       "min_height": null,
       "min_width": null,
       "object_fit": null,
       "object_position": null,
       "order": null,
       "overflow": null,
       "overflow_x": null,
       "overflow_y": null,
       "padding": null,
       "right": null,
       "top": null,
       "visibility": null,
       "width": null
      }
     },
     "2f740962012d44c6b45f0bd171e9ac10": {
      "model_module": "@jupyter-widgets/base",
      "model_module_version": "1.2.0",
      "model_name": "LayoutModel",
      "state": {
       "_model_module": "@jupyter-widgets/base",
       "_model_module_version": "1.2.0",
       "_model_name": "LayoutModel",
       "_view_count": null,
       "_view_module": "@jupyter-widgets/base",
       "_view_module_version": "1.2.0",
       "_view_name": "LayoutView",
       "align_content": null,
       "align_items": null,
       "align_self": null,
       "border": null,
       "bottom": null,
       "display": null,
       "flex": null,
       "flex_flow": null,
       "grid_area": null,
       "grid_auto_columns": null,
       "grid_auto_flow": null,
       "grid_auto_rows": null,
       "grid_column": null,
       "grid_gap": null,
       "grid_row": null,
       "grid_template_areas": null,
       "grid_template_columns": null,
       "grid_template_rows": null,
       "height": null,
       "justify_content": null,
       "justify_items": null,
       "left": null,
       "margin": null,
       "max_height": null,
       "max_width": null,
       "min_height": null,
       "min_width": null,
       "object_fit": null,
       "object_position": null,
       "order": null,
       "overflow": null,
       "overflow_x": null,
       "overflow_y": null,
       "padding": null,
       "right": null,
       "top": null,
       "visibility": null,
       "width": null
      }
     },
     "397333d454734cd5861250927ff03299": {
      "model_module": "@jupyter-widgets/controls",
      "model_module_version": "1.5.0",
      "model_name": "FloatProgressModel",
      "state": {
       "_dom_classes": [],
       "_model_module": "@jupyter-widgets/controls",
       "_model_module_version": "1.5.0",
       "_model_name": "FloatProgressModel",
       "_view_count": null,
       "_view_module": "@jupyter-widgets/controls",
       "_view_module_version": "1.5.0",
       "_view_name": "ProgressView",
       "bar_style": "success",
       "description": "100%",
       "description_tooltip": null,
       "layout": "IPY_MODEL_274de1465da944d1b92e4cc63d4427b1",
       "max": 44512.0,
       "min": 0.0,
       "orientation": "horizontal",
       "style": "IPY_MODEL_09088acc71eb4f3d8fd33de0e25d525a",
       "value": 44512.0
      }
     },
     "4348d27acefa4a0b883f85d62f2866de": {
      "model_module": "@jupyter-widgets/base",
      "model_module_version": "1.2.0",
      "model_name": "LayoutModel",
      "state": {
       "_model_module": "@jupyter-widgets/base",
       "_model_module_version": "1.2.0",
       "_model_name": "LayoutModel",
       "_view_count": null,
       "_view_module": "@jupyter-widgets/base",
       "_view_module_version": "1.2.0",
       "_view_name": "LayoutView",
       "align_content": null,
       "align_items": null,
       "align_self": null,
       "border": null,
       "bottom": null,
       "display": null,
       "flex": null,
       "flex_flow": null,
       "grid_area": null,
       "grid_auto_columns": null,
       "grid_auto_flow": null,
       "grid_auto_rows": null,
       "grid_column": null,
       "grid_gap": null,
       "grid_row": null,
       "grid_template_areas": null,
       "grid_template_columns": null,
       "grid_template_rows": null,
       "height": null,
       "justify_content": null,
       "justify_items": null,
       "left": null,
       "margin": null,
       "max_height": null,
       "max_width": null,
       "min_height": null,
       "min_width": null,
       "object_fit": null,
       "object_position": null,
       "order": null,
       "overflow": null,
       "overflow_x": null,
       "overflow_y": null,
       "padding": null,
       "right": null,
       "top": null,
       "visibility": null,
       "width": null
      }
     },
     "47c8a65683af4b16937b4d88150c49a3": {
      "model_module": "@jupyter-widgets/controls",
      "model_module_version": "1.5.0",
      "model_name": "HTMLModel",
      "state": {
       "_dom_classes": [],
       "_model_module": "@jupyter-widgets/controls",
       "_model_module_version": "1.5.0",
       "_model_name": "HTMLModel",
       "_view_count": null,
       "_view_module": "@jupyter-widgets/controls",
       "_view_module_version": "1.5.0",
       "_view_name": "HTMLView",
       "description": "",
       "description_tooltip": null,
       "layout": "IPY_MODEL_e33fef25fc0141409fa1eb8f4c31c0d5",
       "placeholder": "​",
       "style": "IPY_MODEL_573b8a2f5a6449509cba6e966c22cfee",
       "value": " 5/5 [14:28&lt;00:00, 173.73s/it]"
      }
     },
     "573b8a2f5a6449509cba6e966c22cfee": {
      "model_module": "@jupyter-widgets/controls",
      "model_module_version": "1.5.0",
      "model_name": "DescriptionStyleModel",
      "state": {
       "_model_module": "@jupyter-widgets/controls",
       "_model_module_version": "1.5.0",
       "_model_name": "DescriptionStyleModel",
       "_view_count": null,
       "_view_module": "@jupyter-widgets/base",
       "_view_module_version": "1.2.0",
       "_view_name": "StyleView",
       "description_width": ""
      }
     },
     "807147e0eb194fff9760eb615d53dcfc": {
      "model_module": "@jupyter-widgets/base",
      "model_module_version": "1.2.0",
      "model_name": "LayoutModel",
      "state": {
       "_model_module": "@jupyter-widgets/base",
       "_model_module_version": "1.2.0",
       "_model_name": "LayoutModel",
       "_view_count": null,
       "_view_module": "@jupyter-widgets/base",
       "_view_module_version": "1.2.0",
       "_view_name": "LayoutView",
       "align_content": null,
       "align_items": null,
       "align_self": null,
       "border": null,
       "bottom": null,
       "display": null,
       "flex": null,
       "flex_flow": null,
       "grid_area": null,
       "grid_auto_columns": null,
       "grid_auto_flow": null,
       "grid_auto_rows": null,
       "grid_column": null,
       "grid_gap": null,
       "grid_row": null,
       "grid_template_areas": null,
       "grid_template_columns": null,
       "grid_template_rows": null,
       "height": null,
       "justify_content": null,
       "justify_items": null,
       "left": null,
       "margin": null,
       "max_height": null,
       "max_width": null,
       "min_height": null,
       "min_width": null,
       "object_fit": null,
       "object_position": null,
       "order": null,
       "overflow": null,
       "overflow_x": null,
       "overflow_y": null,
       "padding": null,
       "right": null,
       "top": null,
       "visibility": null,
       "width": null
      }
     },
     "80d8c698b8a246789e6f078bb0f669da": {
      "model_module": "@jupyter-widgets/controls",
      "model_module_version": "1.5.0",
      "model_name": "DescriptionStyleModel",
      "state": {
       "_model_module": "@jupyter-widgets/controls",
       "_model_module_version": "1.5.0",
       "_model_name": "DescriptionStyleModel",
       "_view_count": null,
       "_view_module": "@jupyter-widgets/base",
       "_view_module_version": "1.2.0",
       "_view_name": "StyleView",
       "description_width": ""
      }
     },
     "9f1aea3bd9424d9bb0a2c4cb5b528160": {
      "model_module": "@jupyter-widgets/controls",
      "model_module_version": "1.5.0",
      "model_name": "HTMLModel",
      "state": {
       "_dom_classes": [],
       "_model_module": "@jupyter-widgets/controls",
       "_model_module_version": "1.5.0",
       "_model_name": "HTMLModel",
       "_view_count": null,
       "_view_module": "@jupyter-widgets/controls",
       "_view_module_version": "1.5.0",
       "_view_name": "HTMLView",
       "description": "",
       "description_tooltip": null,
       "layout": "IPY_MODEL_2f740962012d44c6b45f0bd171e9ac10",
       "placeholder": "​",
       "style": "IPY_MODEL_80d8c698b8a246789e6f078bb0f669da",
       "value": " 44512/44512 [01:08&lt;00:00, 649.16it/s]"
      }
     },
     "aa8f6a501a6e4bb3bb01a8ac1add905e": {
      "model_module": "@jupyter-widgets/controls",
      "model_module_version": "1.5.0",
      "model_name": "ProgressStyleModel",
      "state": {
       "_model_module": "@jupyter-widgets/controls",
       "_model_module_version": "1.5.0",
       "_model_name": "ProgressStyleModel",
       "_view_count": null,
       "_view_module": "@jupyter-widgets/base",
       "_view_module_version": "1.2.0",
       "_view_name": "StyleView",
       "bar_color": null,
       "description_width": "initial"
      }
     },
     "c783249539e54c97995c41762b85c2b4": {
      "model_module": "@jupyter-widgets/controls",
      "model_module_version": "1.5.0",
      "model_name": "HBoxModel",
      "state": {
       "_dom_classes": [],
       "_model_module": "@jupyter-widgets/controls",
       "_model_module_version": "1.5.0",
       "_model_name": "HBoxModel",
       "_view_count": null,
       "_view_module": "@jupyter-widgets/controls",
       "_view_module_version": "1.5.0",
       "_view_name": "HBoxView",
       "box_style": "",
       "children": [
        "IPY_MODEL_397333d454734cd5861250927ff03299",
        "IPY_MODEL_9f1aea3bd9424d9bb0a2c4cb5b528160"
       ],
       "layout": "IPY_MODEL_807147e0eb194fff9760eb615d53dcfc"
      }
     },
     "e33fef25fc0141409fa1eb8f4c31c0d5": {
      "model_module": "@jupyter-widgets/base",
      "model_module_version": "1.2.0",
      "model_name": "LayoutModel",
      "state": {
       "_model_module": "@jupyter-widgets/base",
       "_model_module_version": "1.2.0",
       "_model_name": "LayoutModel",
       "_view_count": null,
       "_view_module": "@jupyter-widgets/base",
       "_view_module_version": "1.2.0",
       "_view_name": "LayoutView",
       "align_content": null,
       "align_items": null,
       "align_self": null,
       "border": null,
       "bottom": null,
       "display": null,
       "flex": null,
       "flex_flow": null,
       "grid_area": null,
       "grid_auto_columns": null,
       "grid_auto_flow": null,
       "grid_auto_rows": null,
       "grid_column": null,
       "grid_gap": null,
       "grid_row": null,
       "grid_template_areas": null,
       "grid_template_columns": null,
       "grid_template_rows": null,
       "height": null,
       "justify_content": null,
       "justify_items": null,
       "left": null,
       "margin": null,
       "max_height": null,
       "max_width": null,
       "min_height": null,
       "min_width": null,
       "object_fit": null,
       "object_position": null,
       "order": null,
       "overflow": null,
       "overflow_x": null,
       "overflow_y": null,
       "padding": null,
       "right": null,
       "top": null,
       "visibility": null,
       "width": null
      }
     },
     "f931f0b3d9e04015a8ff86a228b9af59": {
      "model_module": "@jupyter-widgets/controls",
      "model_module_version": "1.5.0",
      "model_name": "HBoxModel",
      "state": {
       "_dom_classes": [],
       "_model_module": "@jupyter-widgets/controls",
       "_model_module_version": "1.5.0",
       "_model_name": "HBoxModel",
       "_view_count": null,
       "_view_module": "@jupyter-widgets/controls",
       "_view_module_version": "1.5.0",
       "_view_name": "HBoxView",
       "box_style": "",
       "children": [
        "IPY_MODEL_00d782de22d94ecabca2fcb4029a928f",
        "IPY_MODEL_47c8a65683af4b16937b4d88150c49a3"
       ],
       "layout": "IPY_MODEL_4348d27acefa4a0b883f85d62f2866de"
      }
     }
    },
    "version_major": 2,
    "version_minor": 0
   }
  }
 },
 "nbformat": 4,
 "nbformat_minor": 4
}
